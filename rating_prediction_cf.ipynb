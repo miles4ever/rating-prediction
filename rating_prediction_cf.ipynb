{
 "cells": [
  {
   "cell_type": "code",
   "execution_count": 128,
   "metadata": {
    "id": "IyszQVDfVNE0"
   },
   "outputs": [],
   "source": [
    "'''Main'''\n",
    "import json\n",
    "import pandas as pd\n",
    "import string\n",
    "import re\n",
    "import time\n",
    "from datetime import datetime, timezone\n",
    "import numpy as np\n",
    "import pandas as pd\n",
    "import os\n",
    "import pickle, gzip, datetime\n",
    "\n",
    "'''Data Viz'''\n",
    "import matplotlib.pyplot as plt\n",
    "import seaborn as sns\n",
    "color = sns.color_palette()\n",
    "import matplotlib as mpl\n",
    "import seaborn as sns\n",
    "%matplotlib inline\n",
    "\n",
    "'''Data Prep and Model Evaluation'''\n",
    "from sklearn import preprocessing as pp\n",
    "from sklearn.preprocessing import MinMaxScaler, LabelEncoder\n",
    "from sklearn.model_selection import StratifiedKFold, train_test_split\n",
    "from sklearn.metrics import log_loss\n",
    "from sklearn.metrics import precision_recall_curve, average_precision_score\n",
    "from sklearn.metrics import roc_curve, auc, roc_auc_score, mean_squared_error\n",
    "from sklearn.metrics import confusion_matrix, precision_score, recall_score,classification_report\n",
    "\n",
    "'''Algos'''\n",
    "import lightgbm as lgb\n",
    "\n",
    "'''TensorFlow and Keras'''\n",
    "import tensorflow as tf\n",
    "import keras\n",
    "from keras import backend as K\n",
    "from keras.models import Sequential, Model\n",
    "from keras.layers import Activation, Dense, Dropout\n",
    "from keras.layers import BatchNormalization, Input, Lambda\n",
    "from keras.layers import Embedding, Flatten, dot\n",
    "from keras import regularizers\n",
    "from keras.losses import mse, binary_crossentropy\n",
    "from keras.callbacks import ModelCheckpoint"
   ]
  },
  {
   "cell_type": "markdown",
   "metadata": {},
   "source": [
    "## Import data set"
   ]
  },
  {
   "cell_type": "markdown",
   "metadata": {},
   "source": [
    "Train Data"
   ]
  },
  {
   "cell_type": "code",
   "execution_count": 204,
   "metadata": {},
   "outputs": [
    {
     "name": "stdout",
     "output_type": "stream",
     "text": [
      "Started Reading JSON file which contains multiple JSON document\n",
      "<class 'pandas.core.frame.DataFrame'>\n",
      "RangeIndex: 200000 entries, 0 to 199999\n",
      "Data columns (total 11 columns):\n",
      " #   Column          Non-Null Count   Dtype  \n",
      "---  ------          --------------   -----  \n",
      " 0   overall         200000 non-null  float64\n",
      " 1   reviewTime      200000 non-null  object \n",
      " 2   reviewerID      200000 non-null  object \n",
      " 3   reviewText      199964 non-null  object \n",
      " 4   summary         199965 non-null  object \n",
      " 5   unixReviewTime  200000 non-null  int64  \n",
      " 6   category        200000 non-null  object \n",
      " 7   price           200000 non-null  object \n",
      " 8   itemID          200000 non-null  object \n",
      " 9   reviewHash      200000 non-null  object \n",
      " 10  image           463 non-null     object \n",
      "dtypes: float64(1), int64(1), object(9)\n",
      "memory usage: 16.8+ MB\n"
     ]
    },
    {
     "data": {
      "text/html": [
       "<div>\n",
       "<style scoped>\n",
       "    .dataframe tbody tr th:only-of-type {\n",
       "        vertical-align: middle;\n",
       "    }\n",
       "\n",
       "    .dataframe tbody tr th {\n",
       "        vertical-align: top;\n",
       "    }\n",
       "\n",
       "    .dataframe thead th {\n",
       "        text-align: right;\n",
       "    }\n",
       "</style>\n",
       "<table border=\"1\" class=\"dataframe\">\n",
       "  <thead>\n",
       "    <tr style=\"text-align: right;\">\n",
       "      <th></th>\n",
       "      <th>overall</th>\n",
       "      <th>reviewTime</th>\n",
       "      <th>reviewerID</th>\n",
       "      <th>reviewText</th>\n",
       "      <th>summary</th>\n",
       "      <th>unixReviewTime</th>\n",
       "      <th>category</th>\n",
       "      <th>price</th>\n",
       "      <th>itemID</th>\n",
       "      <th>reviewHash</th>\n",
       "      <th>image</th>\n",
       "    </tr>\n",
       "  </thead>\n",
       "  <tbody>\n",
       "    <tr>\n",
       "      <th>0</th>\n",
       "      <td>4.0</td>\n",
       "      <td>08 24, 2010</td>\n",
       "      <td>u04428712</td>\n",
       "      <td>So is Katy Perry's new album \"Teenage Dream\" c...</td>\n",
       "      <td>Amazing that I Actually Bought This...More Ama...</td>\n",
       "      <td>1282608000</td>\n",
       "      <td>Pop</td>\n",
       "      <td>$35.93</td>\n",
       "      <td>p70761125</td>\n",
       "      <td>85559980</td>\n",
       "      <td>NaN</td>\n",
       "    </tr>\n",
       "    <tr>\n",
       "      <th>1</th>\n",
       "      <td>5.0</td>\n",
       "      <td>10 31, 2009</td>\n",
       "      <td>u06946603</td>\n",
       "      <td>I got this CD almost 10 years ago, and given t...</td>\n",
       "      <td>Excellent album</td>\n",
       "      <td>1256947200</td>\n",
       "      <td>Alternative Rock</td>\n",
       "      <td>$11.28</td>\n",
       "      <td>p85427891</td>\n",
       "      <td>41699565</td>\n",
       "      <td>NaN</td>\n",
       "    </tr>\n",
       "    <tr>\n",
       "      <th>2</th>\n",
       "      <td>4.0</td>\n",
       "      <td>10 13, 2015</td>\n",
       "      <td>u92735614</td>\n",
       "      <td>I REALLY enjoy this pairing of Anderson and Po...</td>\n",
       "      <td>Love the Music, Hate the Light Show</td>\n",
       "      <td>1444694400</td>\n",
       "      <td>Pop</td>\n",
       "      <td>$89.86</td>\n",
       "      <td>p82172532</td>\n",
       "      <td>24751194</td>\n",
       "      <td>NaN</td>\n",
       "    </tr>\n",
       "    <tr>\n",
       "      <th>3</th>\n",
       "      <td>5.0</td>\n",
       "      <td>06 28, 2017</td>\n",
       "      <td>u35112935</td>\n",
       "      <td>Finally got it . It was everything thought it ...</td>\n",
       "      <td>Great</td>\n",
       "      <td>1498608000</td>\n",
       "      <td>Pop</td>\n",
       "      <td>$11.89</td>\n",
       "      <td>p15255251</td>\n",
       "      <td>22820631</td>\n",
       "      <td>NaN</td>\n",
       "    </tr>\n",
       "    <tr>\n",
       "      <th>4</th>\n",
       "      <td>4.0</td>\n",
       "      <td>10 12, 2015</td>\n",
       "      <td>u07141505</td>\n",
       "      <td>Look at all star cast.  Outstanding record, pl...</td>\n",
       "      <td>Love these guys.</td>\n",
       "      <td>1444608000</td>\n",
       "      <td>Jazz</td>\n",
       "      <td>$15.24</td>\n",
       "      <td>p82618188</td>\n",
       "      <td>53377470</td>\n",
       "      <td>NaN</td>\n",
       "    </tr>\n",
       "  </tbody>\n",
       "</table>\n",
       "</div>"
      ],
      "text/plain": [
       "   overall   reviewTime reviewerID  \\\n",
       "0      4.0  08 24, 2010  u04428712   \n",
       "1      5.0  10 31, 2009  u06946603   \n",
       "2      4.0  10 13, 2015  u92735614   \n",
       "3      5.0  06 28, 2017  u35112935   \n",
       "4      4.0  10 12, 2015  u07141505   \n",
       "\n",
       "                                          reviewText  \\\n",
       "0  So is Katy Perry's new album \"Teenage Dream\" c...   \n",
       "1  I got this CD almost 10 years ago, and given t...   \n",
       "2  I REALLY enjoy this pairing of Anderson and Po...   \n",
       "3  Finally got it . It was everything thought it ...   \n",
       "4  Look at all star cast.  Outstanding record, pl...   \n",
       "\n",
       "                                             summary  unixReviewTime  \\\n",
       "0  Amazing that I Actually Bought This...More Ama...      1282608000   \n",
       "1                                    Excellent album      1256947200   \n",
       "2                Love the Music, Hate the Light Show      1444694400   \n",
       "3                                              Great      1498608000   \n",
       "4                                   Love these guys.      1444608000   \n",
       "\n",
       "           category   price     itemID reviewHash image  \n",
       "0               Pop  $35.93  p70761125   85559980   NaN  \n",
       "1  Alternative Rock  $11.28  p85427891   41699565   NaN  \n",
       "2               Pop  $89.86  p82172532   24751194   NaN  \n",
       "3               Pop  $11.89  p15255251   22820631   NaN  \n",
       "4              Jazz  $15.24  p82618188   53377470   NaN  "
      ]
     },
     "execution_count": 204,
     "metadata": {},
     "output_type": "execute_result"
    }
   ],
   "source": [
    "trainList = []\n",
    "print(\"Started Reading JSON file which contains multiple JSON document\")\n",
    "with open(\"train.json\", \"r\") as f:\n",
    "    for jsonObj in f:\n",
    "        trainDict = json.loads(jsonObj)\n",
    "        trainList.append(trainDict)\n",
    "        \n",
    "trainDF = pd.DataFrame(data = trainList)\n",
    "trainDF.info()\n",
    "trainDF.head()"
   ]
  },
  {
   "cell_type": "markdown",
   "metadata": {},
   "source": [
    "Test Data"
   ]
  },
  {
   "cell_type": "code",
   "execution_count": 205,
   "metadata": {},
   "outputs": [
    {
     "name": "stdout",
     "output_type": "stream",
     "text": [
      "Started Reading JSON file which contains multiple JSON document\n",
      "<class 'pandas.core.frame.DataFrame'>\n",
      "RangeIndex: 10000 entries, 0 to 9999\n",
      "Data columns (total 10 columns):\n",
      " #   Column          Non-Null Count  Dtype \n",
      "---  ------          --------------  ----- \n",
      " 0   reviewTime      10000 non-null  object\n",
      " 1   reviewerID      10000 non-null  object\n",
      " 2   reviewText      9999 non-null   object\n",
      " 3   summary         9998 non-null   object\n",
      " 4   unixReviewTime  10000 non-null  int64 \n",
      " 5   category        10000 non-null  object\n",
      " 6   price           10000 non-null  object\n",
      " 7   itemID          10000 non-null  object\n",
      " 8   reviewHash      10000 non-null  object\n",
      " 9   image           23 non-null     object\n",
      "dtypes: int64(1), object(9)\n",
      "memory usage: 781.4+ KB\n"
     ]
    },
    {
     "data": {
      "text/html": [
       "<div>\n",
       "<style scoped>\n",
       "    .dataframe tbody tr th:only-of-type {\n",
       "        vertical-align: middle;\n",
       "    }\n",
       "\n",
       "    .dataframe tbody tr th {\n",
       "        vertical-align: top;\n",
       "    }\n",
       "\n",
       "    .dataframe thead th {\n",
       "        text-align: right;\n",
       "    }\n",
       "</style>\n",
       "<table border=\"1\" class=\"dataframe\">\n",
       "  <thead>\n",
       "    <tr style=\"text-align: right;\">\n",
       "      <th></th>\n",
       "      <th>reviewTime</th>\n",
       "      <th>reviewerID</th>\n",
       "      <th>reviewText</th>\n",
       "      <th>summary</th>\n",
       "      <th>unixReviewTime</th>\n",
       "      <th>category</th>\n",
       "      <th>price</th>\n",
       "      <th>itemID</th>\n",
       "      <th>reviewHash</th>\n",
       "      <th>image</th>\n",
       "    </tr>\n",
       "  </thead>\n",
       "  <tbody>\n",
       "    <tr>\n",
       "      <th>0</th>\n",
       "      <td>03 26, 2015</td>\n",
       "      <td>u32476110</td>\n",
       "      <td>Fantastic mix of \"old school\" with a creative ...</td>\n",
       "      <td>Fantastic mix of \"old school\" with a creative ...</td>\n",
       "      <td>1427328000</td>\n",
       "      <td>Pop</td>\n",
       "      <td>$14.98</td>\n",
       "      <td>p76243483</td>\n",
       "      <td>20167847</td>\n",
       "      <td>NaN</td>\n",
       "    </tr>\n",
       "    <tr>\n",
       "      <th>1</th>\n",
       "      <td>05 15, 2017</td>\n",
       "      <td>u36732410</td>\n",
       "      <td>Update: Indications\\nThere are various opinion...</td>\n",
       "      <td>Digitally Extracted Stereo (DES) Rules!</td>\n",
       "      <td>1494806400</td>\n",
       "      <td>Pop</td>\n",
       "      <td>$15.16</td>\n",
       "      <td>p92485419</td>\n",
       "      <td>30527605</td>\n",
       "      <td>NaN</td>\n",
       "    </tr>\n",
       "    <tr>\n",
       "      <th>2</th>\n",
       "      <td>06 4, 2015</td>\n",
       "      <td>u85385007</td>\n",
       "      <td>This album provides a new twist on old Sammy H...</td>\n",
       "      <td>Excellent unplugged album</td>\n",
       "      <td>1433376000</td>\n",
       "      <td>Pop</td>\n",
       "      <td>$7.37</td>\n",
       "      <td>p40031588</td>\n",
       "      <td>12169432</td>\n",
       "      <td>NaN</td>\n",
       "    </tr>\n",
       "    <tr>\n",
       "      <th>3</th>\n",
       "      <td>04 23, 2009</td>\n",
       "      <td>u30715529</td>\n",
       "      <td>(Symbol) can be considered as another masterpi...</td>\n",
       "      <td>another masterpiece</td>\n",
       "      <td>1240444800</td>\n",
       "      <td>Pop</td>\n",
       "      <td>$12.45</td>\n",
       "      <td>p88719785</td>\n",
       "      <td>55648615</td>\n",
       "      <td>NaN</td>\n",
       "    </tr>\n",
       "    <tr>\n",
       "      <th>4</th>\n",
       "      <td>09 15, 2000</td>\n",
       "      <td>u95909892</td>\n",
       "      <td>Many would think this album is good only becau...</td>\n",
       "      <td>True Classic Rock</td>\n",
       "      <td>968976000</td>\n",
       "      <td>Alternative Rock</td>\n",
       "      <td>$2.07</td>\n",
       "      <td>p59188380</td>\n",
       "      <td>09520938</td>\n",
       "      <td>NaN</td>\n",
       "    </tr>\n",
       "  </tbody>\n",
       "</table>\n",
       "</div>"
      ],
      "text/plain": [
       "    reviewTime reviewerID                                         reviewText  \\\n",
       "0  03 26, 2015  u32476110  Fantastic mix of \"old school\" with a creative ...   \n",
       "1  05 15, 2017  u36732410  Update: Indications\\nThere are various opinion...   \n",
       "2   06 4, 2015  u85385007  This album provides a new twist on old Sammy H...   \n",
       "3  04 23, 2009  u30715529  (Symbol) can be considered as another masterpi...   \n",
       "4  09 15, 2000  u95909892  Many would think this album is good only becau...   \n",
       "\n",
       "                                             summary  unixReviewTime  \\\n",
       "0  Fantastic mix of \"old school\" with a creative ...      1427328000   \n",
       "1            Digitally Extracted Stereo (DES) Rules!      1494806400   \n",
       "2                          Excellent unplugged album      1433376000   \n",
       "3                                another masterpiece      1240444800   \n",
       "4                                  True Classic Rock       968976000   \n",
       "\n",
       "           category   price     itemID reviewHash image  \n",
       "0               Pop  $14.98  p76243483   20167847   NaN  \n",
       "1               Pop  $15.16  p92485419   30527605   NaN  \n",
       "2               Pop   $7.37  p40031588   12169432   NaN  \n",
       "3               Pop  $12.45  p88719785   55648615   NaN  \n",
       "4  Alternative Rock   $2.07  p59188380   09520938   NaN  "
      ]
     },
     "execution_count": 205,
     "metadata": {},
     "output_type": "execute_result"
    }
   ],
   "source": [
    "testList = []\n",
    "print(\"Started Reading JSON file which contains multiple JSON document\")\n",
    "with open(\"test.json\", \"r\") as f:\n",
    "    for jsonObj in f:\n",
    "        testDict = json.loads(jsonObj)\n",
    "        testList.append(testDict)\n",
    "        \n",
    "testDF = pd.DataFrame(data = testList)\n",
    "testDF.info()\n",
    "testDF.head()"
   ]
  },
  {
   "cell_type": "markdown",
   "metadata": {},
   "source": [
    "## Exploratory analysis & Preprocessing"
   ]
  },
  {
   "cell_type": "code",
   "execution_count": 206,
   "metadata": {},
   "outputs": [
    {
     "data": {
      "text/html": [
       "<div>\n",
       "<style scoped>\n",
       "    .dataframe tbody tr th:only-of-type {\n",
       "        vertical-align: middle;\n",
       "    }\n",
       "\n",
       "    .dataframe tbody tr th {\n",
       "        vertical-align: top;\n",
       "    }\n",
       "\n",
       "    .dataframe thead th {\n",
       "        text-align: right;\n",
       "    }\n",
       "</style>\n",
       "<table border=\"1\" class=\"dataframe\">\n",
       "  <thead>\n",
       "    <tr style=\"text-align: right;\">\n",
       "      <th></th>\n",
       "      <th>reviewerID</th>\n",
       "      <th>itemID</th>\n",
       "      <th>overall</th>\n",
       "    </tr>\n",
       "  </thead>\n",
       "  <tbody>\n",
       "    <tr>\n",
       "      <th>0</th>\n",
       "      <td>u04428712</td>\n",
       "      <td>p70761125</td>\n",
       "      <td>4.0</td>\n",
       "    </tr>\n",
       "    <tr>\n",
       "      <th>1</th>\n",
       "      <td>u06946603</td>\n",
       "      <td>p85427891</td>\n",
       "      <td>5.0</td>\n",
       "    </tr>\n",
       "    <tr>\n",
       "      <th>2</th>\n",
       "      <td>u92735614</td>\n",
       "      <td>p82172532</td>\n",
       "      <td>4.0</td>\n",
       "    </tr>\n",
       "    <tr>\n",
       "      <th>3</th>\n",
       "      <td>u35112935</td>\n",
       "      <td>p15255251</td>\n",
       "      <td>5.0</td>\n",
       "    </tr>\n",
       "    <tr>\n",
       "      <th>4</th>\n",
       "      <td>u07141505</td>\n",
       "      <td>p82618188</td>\n",
       "      <td>4.0</td>\n",
       "    </tr>\n",
       "  </tbody>\n",
       "</table>\n",
       "</div>"
      ],
      "text/plain": [
       "  reviewerID     itemID  overall\n",
       "0  u04428712  p70761125      4.0\n",
       "1  u06946603  p85427891      5.0\n",
       "2  u92735614  p82172532      4.0\n",
       "3  u35112935  p15255251      5.0\n",
       "4  u07141505  p82618188      4.0"
      ]
     },
     "execution_count": 206,
     "metadata": {},
     "output_type": "execute_result"
    }
   ],
   "source": [
    "trainDF = trainDF[['reviewerID','itemID','overall']]\n",
    "trainDF.head()"
   ]
  },
  {
   "cell_type": "code",
   "execution_count": 207,
   "metadata": {},
   "outputs": [
    {
     "data": {
      "text/plain": [
       "reviewerID  itemID   \n",
       "u00000217   p08261224    1\n",
       "            p51080352    1\n",
       "            p76782930    1\n",
       "            p92904252    1\n",
       "u00002652   p31717620    1\n",
       "                        ..\n",
       "u99998688   p35178845    1\n",
       "            p60861164    1\n",
       "            p74186509    1\n",
       "u99999649   p10581538    1\n",
       "            p51430573    1\n",
       "Length: 200000, dtype: int64"
      ]
     },
     "execution_count": 207,
     "metadata": {},
     "output_type": "execute_result"
    }
   ],
   "source": [
    "trainDF.groupby(['reviewerID','itemID']).size()"
   ]
  },
  {
   "cell_type": "code",
   "execution_count": 208,
   "metadata": {},
   "outputs": [
    {
     "data": {
      "text/plain": [
       "<AxesSubplot:>"
      ]
     },
     "execution_count": 208,
     "metadata": {},
     "output_type": "execute_result"
    },
    {
     "data": {
      "image/png": "[encoded data removed]",
      "text/plain": [
       "<Figure size 864x576 with 1 Axes>"
      ]
     },
     "metadata": {
      "needs_background": "light"
     },
     "output_type": "display_data"
    }
   ],
   "source": [
    "fig, ax = plt.subplots(figsize=(12,8))\n",
    "sns.heatmap(trainDF.isnull(), cmap='coolwarm', yticklabels=False, cbar=False, ax=ax)"
   ]
  },
  {
   "cell_type": "code",
   "execution_count": 209,
   "metadata": {},
   "outputs": [
    {
     "data": {
      "text/html": [
       "<div>\n",
       "<style scoped>\n",
       "    .dataframe tbody tr th:only-of-type {\n",
       "        vertical-align: middle;\n",
       "    }\n",
       "\n",
       "    .dataframe tbody tr th {\n",
       "        vertical-align: top;\n",
       "    }\n",
       "\n",
       "    .dataframe thead th {\n",
       "        text-align: right;\n",
       "    }\n",
       "</style>\n",
       "<table border=\"1\" class=\"dataframe\">\n",
       "  <thead>\n",
       "    <tr style=\"text-align: right;\">\n",
       "      <th></th>\n",
       "      <th>reviewerID</th>\n",
       "      <th>itemID</th>\n",
       "    </tr>\n",
       "  </thead>\n",
       "  <tbody>\n",
       "    <tr>\n",
       "      <th>0</th>\n",
       "      <td>u32476110</td>\n",
       "      <td>p76243483</td>\n",
       "    </tr>\n",
       "    <tr>\n",
       "      <th>1</th>\n",
       "      <td>u36732410</td>\n",
       "      <td>p92485419</td>\n",
       "    </tr>\n",
       "    <tr>\n",
       "      <th>2</th>\n",
       "      <td>u85385007</td>\n",
       "      <td>p40031588</td>\n",
       "    </tr>\n",
       "    <tr>\n",
       "      <th>3</th>\n",
       "      <td>u30715529</td>\n",
       "      <td>p88719785</td>\n",
       "    </tr>\n",
       "    <tr>\n",
       "      <th>4</th>\n",
       "      <td>u95909892</td>\n",
       "      <td>p59188380</td>\n",
       "    </tr>\n",
       "  </tbody>\n",
       "</table>\n",
       "</div>"
      ],
      "text/plain": [
       "  reviewerID     itemID\n",
       "0  u32476110  p76243483\n",
       "1  u36732410  p92485419\n",
       "2  u85385007  p40031588\n",
       "3  u30715529  p88719785\n",
       "4  u95909892  p59188380"
      ]
     },
     "execution_count": 209,
     "metadata": {},
     "output_type": "execute_result"
    }
   ],
   "source": [
    "testDF = testDF[['reviewerID','itemID']]\n",
    "testDF.head()"
   ]
  },
  {
   "cell_type": "code",
   "execution_count": 210,
   "metadata": {},
   "outputs": [
    {
     "data": {
      "text/plain": [
       "reviewerID  itemID   \n",
       "u00002652   p87874123    1\n",
       "u00005892   p64166735    1\n",
       "u00008314   p53859222    1\n",
       "u00016592   p10232162    1\n",
       "u00030542   p03849162    1\n",
       "                        ..\n",
       "u99983493   p40902042    1\n",
       "            p46136589    1\n",
       "u99996166   p73415113    1\n",
       "            p73613056    1\n",
       "            p89434408    1\n",
       "Length: 10000, dtype: int64"
      ]
     },
     "execution_count": 210,
     "metadata": {},
     "output_type": "execute_result"
    }
   ],
   "source": [
    "testDF.groupby(['reviewerID','itemID']).size()"
   ]
  },
  {
   "cell_type": "code",
   "execution_count": 211,
   "metadata": {},
   "outputs": [
    {
     "data": {
      "text/plain": [
       "<AxesSubplot:>"
      ]
     },
     "execution_count": 211,
     "metadata": {},
     "output_type": "execute_result"
    },
    {
     "data": {
      "image/png": "[encoded data removed]",
      "text/plain": [
       "<Figure size 864x576 with 1 Axes>"
      ]
     },
     "metadata": {
      "needs_background": "light"
     },
     "output_type": "display_data"
    }
   ],
   "source": [
    "fig, ax = plt.subplots(figsize=(12,8))\n",
    "sns.heatmap(testDF.isnull(), cmap='coolwarm', yticklabels=False, cbar=False, ax=ax)"
   ]
  },
  {
   "cell_type": "code",
   "execution_count": 212,
   "metadata": {},
   "outputs": [
    {
     "name": "stdout",
     "output_type": "stream",
     "text": [
      "Number of unique users:  72285\n",
      "Number of unique items:  25493\n",
      "Number of total ratings:  200000\n",
      "Average number of ratings per user:  2.766825759147818\n"
     ]
    }
   ],
   "source": [
    "# tarining set basic statistics\n",
    "n_users = trainDF.reviewerID.unique().shape[0]\n",
    "n_items = trainDF.itemID.unique().shape[0]\n",
    "n_ratings = len(trainDF)\n",
    "avg_ratings_per_user = n_ratings/n_users\n",
    "\n",
    "print('Number of unique users: ', n_users)\n",
    "print('Number of unique items: ', n_items)\n",
    "print('Number of total ratings: ', n_ratings)\n",
    "print('Average number of ratings per user: ', avg_ratings_per_user)"
   ]
  },
  {
   "cell_type": "code",
   "execution_count": 213,
   "metadata": {},
   "outputs": [
    {
     "data": {
      "text/html": [
       "<div>\n",
       "<style scoped>\n",
       "    .dataframe tbody tr th:only-of-type {\n",
       "        vertical-align: middle;\n",
       "    }\n",
       "\n",
       "    .dataframe tbody tr th {\n",
       "        vertical-align: top;\n",
       "    }\n",
       "\n",
       "    .dataframe thead th {\n",
       "        text-align: right;\n",
       "    }\n",
       "</style>\n",
       "<table border=\"1\" class=\"dataframe\">\n",
       "  <thead>\n",
       "    <tr style=\"text-align: right;\">\n",
       "      <th></th>\n",
       "      <th>reviewerID</th>\n",
       "      <th>itemID</th>\n",
       "      <th>overall</th>\n",
       "    </tr>\n",
       "  </thead>\n",
       "  <tbody>\n",
       "    <tr>\n",
       "      <th>0</th>\n",
       "      <td>u04428712</td>\n",
       "      <td>p70761125</td>\n",
       "      <td>4.0</td>\n",
       "    </tr>\n",
       "    <tr>\n",
       "      <th>1</th>\n",
       "      <td>u06946603</td>\n",
       "      <td>p85427891</td>\n",
       "      <td>5.0</td>\n",
       "    </tr>\n",
       "    <tr>\n",
       "      <th>2</th>\n",
       "      <td>u92735614</td>\n",
       "      <td>p82172532</td>\n",
       "      <td>4.0</td>\n",
       "    </tr>\n",
       "    <tr>\n",
       "      <th>3</th>\n",
       "      <td>u35112935</td>\n",
       "      <td>p15255251</td>\n",
       "      <td>5.0</td>\n",
       "    </tr>\n",
       "    <tr>\n",
       "      <th>4</th>\n",
       "      <td>u07141505</td>\n",
       "      <td>p82618188</td>\n",
       "      <td>4.0</td>\n",
       "    </tr>\n",
       "    <tr>\n",
       "      <th>...</th>\n",
       "      <td>...</td>\n",
       "      <td>...</td>\n",
       "      <td>...</td>\n",
       "    </tr>\n",
       "    <tr>\n",
       "      <th>199995</th>\n",
       "      <td>u68902609</td>\n",
       "      <td>p84118731</td>\n",
       "      <td>4.0</td>\n",
       "    </tr>\n",
       "    <tr>\n",
       "      <th>199996</th>\n",
       "      <td>u15269603</td>\n",
       "      <td>p08613950</td>\n",
       "      <td>5.0</td>\n",
       "    </tr>\n",
       "    <tr>\n",
       "      <th>199997</th>\n",
       "      <td>u25124021</td>\n",
       "      <td>p25341819</td>\n",
       "      <td>3.0</td>\n",
       "    </tr>\n",
       "    <tr>\n",
       "      <th>199998</th>\n",
       "      <td>u04485604</td>\n",
       "      <td>p19134748</td>\n",
       "      <td>5.0</td>\n",
       "    </tr>\n",
       "    <tr>\n",
       "      <th>199999</th>\n",
       "      <td>u91032625</td>\n",
       "      <td>p72631564</td>\n",
       "      <td>5.0</td>\n",
       "    </tr>\n",
       "  </tbody>\n",
       "</table>\n",
       "<p>200000 rows × 3 columns</p>\n",
       "</div>"
      ],
      "text/plain": [
       "       reviewerID     itemID  overall\n",
       "0       u04428712  p70761125      4.0\n",
       "1       u06946603  p85427891      5.0\n",
       "2       u92735614  p82172532      4.0\n",
       "3       u35112935  p15255251      5.0\n",
       "4       u07141505  p82618188      4.0\n",
       "...           ...        ...      ...\n",
       "199995  u68902609  p84118731      4.0\n",
       "199996  u15269603  p08613950      5.0\n",
       "199997  u25124021  p25341819      3.0\n",
       "199998  u04485604  p19134748      5.0\n",
       "199999  u91032625  p72631564      5.0\n",
       "\n",
       "[200000 rows x 3 columns]"
      ]
     },
     "execution_count": 213,
     "metadata": {},
     "output_type": "execute_result"
    }
   ],
   "source": [
    "trainDF"
   ]
  },
  {
   "cell_type": "code",
   "execution_count": 118,
   "metadata": {},
   "outputs": [],
   "source": [
    "# encode labels of managers and stocks to start from 0 with LabelEncoder\n",
    "le1 = LabelEncoder()\n",
    "le2 = LabelEncoder()\n",
    "\n",
    "le1.fit(trainDF['reviewerID'])\n",
    "userDF = le1.transform(trainDF['reviewerID'])\n",
    "\n",
    "le2.fit(trainDF['itemID'])\n",
    "itemDF = le2.transform(trainDF['itemID'])"
   ]
  },
  {
   "cell_type": "code",
   "execution_count": 214,
   "metadata": {},
   "outputs": [],
   "source": [
    "trainDF_enc = pd.DataFrame(data = {'reviewerID':userDF, 'itemID':itemDF,  'rating':trainDF['overall']})"
   ]
  },
  {
   "cell_type": "code",
   "execution_count": 215,
   "metadata": {},
   "outputs": [],
   "source": [
    "# split the training data into train and validation set\n",
    "train, val = train_test_split(trainDF_enc,test_size=0.20,shuffle=True, random_state = 42)"
   ]
  },
  {
   "cell_type": "code",
   "execution_count": 216,
   "metadata": {},
   "outputs": [
    {
     "name": "stdout",
     "output_type": "stream",
     "text": [
      "Size of train set:  160000\n",
      "Size of validation set:  40000\n",
      "Size of test set:  10000\n"
     ]
    }
   ],
   "source": [
    "# Confirm size of train, validation, and test datasets\n",
    "print('Size of train set: ', len(train))\n",
    "print('Size of validation set: ', len(val))\n",
    "print('Size of test set: ', len(testDF))"
   ]
  },
  {
   "cell_type": "code",
   "execution_count": 217,
   "metadata": {},
   "outputs": [
    {
     "data": {
      "text/html": [
       "<div>\n",
       "<style scoped>\n",
       "    .dataframe tbody tr th:only-of-type {\n",
       "        vertical-align: middle;\n",
       "    }\n",
       "\n",
       "    .dataframe tbody tr th {\n",
       "        vertical-align: top;\n",
       "    }\n",
       "\n",
       "    .dataframe thead th {\n",
       "        text-align: right;\n",
       "    }\n",
       "</style>\n",
       "<table border=\"1\" class=\"dataframe\">\n",
       "  <thead>\n",
       "    <tr style=\"text-align: right;\">\n",
       "      <th></th>\n",
       "      <th>reviewerID</th>\n",
       "      <th>itemID</th>\n",
       "      <th>rating</th>\n",
       "    </tr>\n",
       "  </thead>\n",
       "  <tbody>\n",
       "    <tr>\n",
       "      <th>153248</th>\n",
       "      <td>2610</td>\n",
       "      <td>2677</td>\n",
       "      <td>5.0</td>\n",
       "    </tr>\n",
       "    <tr>\n",
       "      <th>67802</th>\n",
       "      <td>34471</td>\n",
       "      <td>23252</td>\n",
       "      <td>5.0</td>\n",
       "    </tr>\n",
       "    <tr>\n",
       "      <th>148889</th>\n",
       "      <td>65639</td>\n",
       "      <td>6727</td>\n",
       "      <td>5.0</td>\n",
       "    </tr>\n",
       "    <tr>\n",
       "      <th>103093</th>\n",
       "      <td>35150</td>\n",
       "      <td>19110</td>\n",
       "      <td>5.0</td>\n",
       "    </tr>\n",
       "    <tr>\n",
       "      <th>104681</th>\n",
       "      <td>25756</td>\n",
       "      <td>14989</td>\n",
       "      <td>5.0</td>\n",
       "    </tr>\n",
       "    <tr>\n",
       "      <th>...</th>\n",
       "      <td>...</td>\n",
       "      <td>...</td>\n",
       "      <td>...</td>\n",
       "    </tr>\n",
       "    <tr>\n",
       "      <th>119879</th>\n",
       "      <td>53250</td>\n",
       "      <td>9865</td>\n",
       "      <td>4.0</td>\n",
       "    </tr>\n",
       "    <tr>\n",
       "      <th>103694</th>\n",
       "      <td>305</td>\n",
       "      <td>24050</td>\n",
       "      <td>5.0</td>\n",
       "    </tr>\n",
       "    <tr>\n",
       "      <th>131932</th>\n",
       "      <td>22562</td>\n",
       "      <td>12790</td>\n",
       "      <td>5.0</td>\n",
       "    </tr>\n",
       "    <tr>\n",
       "      <th>146867</th>\n",
       "      <td>22551</td>\n",
       "      <td>8259</td>\n",
       "      <td>5.0</td>\n",
       "    </tr>\n",
       "    <tr>\n",
       "      <th>121958</th>\n",
       "      <td>26749</td>\n",
       "      <td>20642</td>\n",
       "      <td>5.0</td>\n",
       "    </tr>\n",
       "  </tbody>\n",
       "</table>\n",
       "<p>160000 rows × 3 columns</p>\n",
       "</div>"
      ],
      "text/plain": [
       "        reviewerID  itemID  rating\n",
       "153248        2610    2677     5.0\n",
       "67802        34471   23252     5.0\n",
       "148889       65639    6727     5.0\n",
       "103093       35150   19110     5.0\n",
       "104681       25756   14989     5.0\n",
       "...            ...     ...     ...\n",
       "119879       53250    9865     4.0\n",
       "103694         305   24050     5.0\n",
       "131932       22562   12790     5.0\n",
       "146867       22551    8259     5.0\n",
       "121958       26749   20642     5.0\n",
       "\n",
       "[160000 rows x 3 columns]"
      ]
     },
     "execution_count": 217,
     "metadata": {},
     "output_type": "execute_result"
    }
   ],
   "source": [
    "train"
   ]
  },
  {
   "cell_type": "code",
   "execution_count": 218,
   "metadata": {},
   "outputs": [],
   "source": [
    "# Recommender System using Matrix Factorization (NMF)\n",
    "# 2 Latent Factor"
   ]
  },
  {
   "cell_type": "code",
   "execution_count": 136,
   "metadata": {},
   "outputs": [],
   "source": [
    "n_latent_factors = 2\n",
    "\n",
    "user_input = Input(shape=[1], name='user')\n",
    "user_embedding = Embedding(input_dim=n_users + 1, \\\n",
    "                           output_dim=n_latent_factors, \\\n",
    "                           name='user_embedding')(user_input)\n",
    "user_vec = Flatten(name='flatten_users')(user_embedding)\n",
    "\n",
    "item_input = Input(shape=[1], name='item')\n",
    "item_embedding = Embedding(input_dim=n_items + 1, \\\n",
    "                            output_dim=n_latent_factors,\n",
    "                            name='item_embedding')(item_input)\n",
    "item_vec = Flatten(name='flatten_items')(item_embedding)\n",
    "\n",
    "product = dot([item_vec, user_vec], axes=1)\n",
    "model = Model(inputs=[user_input, item_input], outputs=product)\n",
    "model.compile(optimizer='adam', loss='mse', metrics='mean_squared_error')"
   ]
  },
  {
   "cell_type": "code",
   "execution_count": 137,
   "metadata": {},
   "outputs": [
    {
     "name": "stdout",
     "output_type": "stream",
     "text": [
      "Epoch 1/50\n",
      "4990/5000 [============================>.] - ETA: 0s - loss: 20.4382 - mean_squared_error: 20.4382\n",
      "Epoch 00001: val_loss improved from -inf to 20.42263, saving model to userID_embeddingModel.hdf5\n",
      "5000/5000 [==============================] - 6s 1ms/step - loss: 20.4392 - mean_squared_error: 20.4392 - val_loss: 20.4226 - val_mean_squared_error: 20.4226\n",
      "Epoch 2/50\n",
      "5000/5000 [==============================] - ETA: 0s - loss: 20.3658 - mean_squared_error: 20.3658\n",
      "Epoch 00002: val_loss did not improve from 20.42263\n",
      "5000/5000 [==============================] - 6s 1ms/step - loss: 20.3658 - mean_squared_error: 20.3658 - val_loss: 20.3747 - val_mean_squared_error: 20.3747\n",
      "Epoch 3/50\n",
      "4959/5000 [============================>.] - ETA: 0s - loss: 20.0769 - mean_squared_error: 20.0769\n",
      "Epoch 00003: val_loss did not improve from 20.42263\n",
      "5000/5000 [==============================] - 5s 1ms/step - loss: 20.0755 - mean_squared_error: 20.0755 - val_loss: 20.2275 - val_mean_squared_error: 20.2275\n",
      "Epoch 4/50\n",
      "4997/5000 [============================>.] - ETA: 0s - loss: 19.5153 - mean_squared_error: 19.5153\n",
      "Epoch 00004: val_loss did not improve from 20.42263\n",
      "5000/5000 [==============================] - 6s 1ms/step - loss: 19.5153 - mean_squared_error: 19.5153 - val_loss: 19.9842 - val_mean_squared_error: 19.9842\n",
      "Epoch 5/50\n",
      "4955/5000 [============================>.] - ETA: 0s - loss: 18.7217 - mean_squared_error: 18.7217 ETA: 0s - loss: 18.7398 - mean_sq\n",
      "Epoch 00005: val_loss did not improve from 20.42263\n",
      "5000/5000 [==============================] - 6s 1ms/step - loss: 18.7179 - mean_squared_error: 18.7179 - val_loss: 19.6871 - val_mean_squared_error: 19.6871\n",
      "Epoch 6/50\n",
      "4980/5000 [============================>.] - ETA: 0s - loss: 17.7594 - mean_squared_error: 17.7594\n",
      "Epoch 00006: val_loss did not improve from 20.42263\n",
      "5000/5000 [==============================] - 6s 1ms/step - loss: 17.7585 - mean_squared_error: 17.7585 - val_loss: 19.3891 - val_mean_squared_error: 19.3891\n",
      "Epoch 7/50\n",
      "4979/5000 [============================>.] - ETA: 0s - loss: 16.7220 - mean_squared_error: 16.7220\n",
      "Epoch 00007: val_loss did not improve from 20.42263\n",
      "5000/5000 [==============================] - 6s 1ms/step - loss: 16.7193 - mean_squared_error: 16.7193 - val_loss: 19.1226 - val_mean_squared_error: 19.1226\n",
      "Epoch 8/50\n",
      "4975/5000 [============================>.] - ETA: 0s - loss: 15.6538 - mean_squared_error: 15.6538\n",
      "Epoch 00008: val_loss did not improve from 20.42263\n",
      "5000/5000 [==============================] - 6s 1ms/step - loss: 15.6535 - mean_squared_error: 15.6535 - val_loss: 18.8950 - val_mean_squared_error: 18.8950\n",
      "Epoch 9/50\n",
      "4983/5000 [============================>.] - ETA: 0s - loss: 14.5947 - mean_squared_error: 14.5947\n",
      "Epoch 00009: val_loss did not improve from 20.42263\n",
      "5000/5000 [==============================] - 5s 1ms/step - loss: 14.5927 - mean_squared_error: 14.5927 - val_loss: 18.7119 - val_mean_squared_error: 18.7119\n",
      "Epoch 10/50\n",
      "4996/5000 [============================>.] - ETA: 0s - loss: 13.5608 - mean_squared_error: 13.5608\n",
      "Epoch 00010: val_loss did not improve from 20.42263\n",
      "5000/5000 [==============================] - 6s 1ms/step - loss: 13.5614 - mean_squared_error: 13.5614 - val_loss: 18.5728 - val_mean_squared_error: 18.5728\n",
      "Epoch 11/50\n",
      "4947/5000 [============================>.] - ETA: 0s - loss: 12.5796 - mean_squared_error: 12.5796\n",
      "Epoch 00011: val_loss did not improve from 20.42263\n",
      "5000/5000 [==============================] - 5s 1ms/step - loss: 12.5802 - mean_squared_error: 12.5802 - val_loss: 18.4757 - val_mean_squared_error: 18.4757\n",
      "Epoch 12/50\n",
      "4991/5000 [============================>.] - ETA: 0s - loss: 11.6616 - mean_squared_error: 11.6616\n",
      "Epoch 00012: val_loss did not improve from 20.42263\n",
      "5000/5000 [==============================] - 5s 1000us/step - loss: 11.6600 - mean_squared_error: 11.6600 - val_loss: 18.4156 - val_mean_squared_error: 18.4156\n",
      "Epoch 13/50\n",
      "4988/5000 [============================>.] - ETA: 0s - loss: 10.8047 - mean_squared_error: 10.8047\n",
      "Epoch 00013: val_loss did not improve from 20.42263\n",
      "5000/5000 [==============================] - 5s 1ms/step - loss: 10.8033 - mean_squared_error: 10.8033 - val_loss: 18.3901 - val_mean_squared_error: 18.3901\n",
      "Epoch 14/50\n",
      "4951/5000 [============================>.] - ETA: 0s - loss: 10.0179 - mean_squared_error: 10.0179\n",
      "Epoch 00014: val_loss did not improve from 20.42263\n",
      "5000/5000 [==============================] - 5s 1ms/step - loss: 10.0168 - mean_squared_error: 10.0168 - val_loss: 18.3924 - val_mean_squared_error: 18.3924\n",
      "Epoch 15/50\n",
      "4996/5000 [============================>.] - ETA: 0s - loss: 9.2959 - mean_squared_error: 9.2959\n",
      "Epoch 00015: val_loss did not improve from 20.42263\n",
      "5000/5000 [==============================] - 5s 1ms/step - loss: 9.2956 - mean_squared_error: 9.2956 - val_loss: 18.4232 - val_mean_squared_error: 18.4232\n",
      "Epoch 16/50\n",
      "4968/5000 [============================>.] - ETA: 0s - loss: 8.6390 - mean_squared_error: 8.6390\n",
      "Epoch 00016: val_loss did not improve from 20.42263\n",
      "5000/5000 [==============================] - 5s 1ms/step - loss: 8.6403 - mean_squared_error: 8.6403 - val_loss: 18.4698 - val_mean_squared_error: 18.4698\n",
      "Epoch 17/50\n",
      "4964/5000 [============================>.] - ETA: 0s - loss: 8.0440 - mean_squared_error: 8.0440\n",
      "Epoch 00017: val_loss did not improve from 20.42263\n",
      "5000/5000 [==============================] - 5s 1ms/step - loss: 8.0431 - mean_squared_error: 8.0431 - val_loss: 18.5289 - val_mean_squared_error: 18.5289\n",
      "Epoch 18/50\n",
      "4962/5000 [============================>.] - ETA: 0s - loss: 7.5000 - mean_squared_error: 7.5000\n",
      "Epoch 00018: val_loss did not improve from 20.42263\n",
      "5000/5000 [==============================] - 6s 1ms/step - loss: 7.5033 - mean_squared_error: 7.5033 - val_loss: 18.5991 - val_mean_squared_error: 18.5991\n",
      "Epoch 19/50\n",
      "4954/5000 [============================>.] - ETA: 0s - loss: 7.0153 - mean_squared_error: 7.0153\n",
      "Epoch 00019: val_loss did not improve from 20.42263\n",
      "5000/5000 [==============================] - 6s 1ms/step - loss: 7.0145 - mean_squared_error: 7.0145 - val_loss: 18.6804 - val_mean_squared_error: 18.6804\n",
      "Epoch 20/50\n",
      "4981/5000 [============================>.] - ETA: 0s - loss: 6.5714 - mean_squared_error: 6.5714\n",
      "Epoch 00020: val_loss did not improve from 20.42263\n",
      "5000/5000 [==============================] - 5s 1ms/step - loss: 6.5720 - mean_squared_error: 6.5720 - val_loss: 18.7653 - val_mean_squared_error: 18.7653\n",
      "Epoch 21/50\n",
      "4976/5000 [============================>.] - ETA: 0s - loss: 6.1776 - mean_squared_error: 6.1776\n",
      "Epoch 00021: val_loss did not improve from 20.42263\n",
      "5000/5000 [==============================] - 6s 1ms/step - loss: 6.1719 - mean_squared_error: 6.1719 - val_loss: 18.8486 - val_mean_squared_error: 18.8486\n",
      "Epoch 22/50\n",
      "4973/5000 [============================>.] - ETA: 0s - loss: 5.8087 - mean_squared_error: 5.8087\n",
      "Epoch 00022: val_loss did not improve from 20.42263\n",
      "5000/5000 [==============================] - 5s 1ms/step - loss: 5.8099 - mean_squared_error: 5.8099 - val_loss: 18.9332 - val_mean_squared_error: 18.9332\n",
      "Epoch 23/50\n",
      "4996/5000 [============================>.] - ETA: 0s - loss: 5.4801 - mean_squared_error: 5.4801\n",
      "Epoch 00023: val_loss did not improve from 20.42263\n",
      "5000/5000 [==============================] - 5s 1ms/step - loss: 5.4814 - mean_squared_error: 5.4814 - val_loss: 19.0164 - val_mean_squared_error: 19.0164\n",
      "Epoch 24/50\n",
      "4955/5000 [============================>.] - ETA: 0s - loss: 5.1852 - mean_squared_error: 5.1852\n",
      "Epoch 00024: val_loss did not improve from 20.42263\n",
      "5000/5000 [==============================] - 5s 1ms/step - loss: 5.1841 - mean_squared_error: 5.1841 - val_loss: 19.0896 - val_mean_squared_error: 19.0896\n",
      "Epoch 25/50\n",
      "4978/5000 [============================>.] - ETA: 0s - loss: 4.9132 - mean_squared_error: 4.9132\n",
      "Epoch 00025: val_loss did not improve from 20.42263\n",
      "5000/5000 [==============================] - 5s 1ms/step - loss: 4.9144 - mean_squared_error: 4.9144 - val_loss: 19.1676 - val_mean_squared_error: 19.1676\n",
      "Epoch 26/50\n",
      "4982/5000 [============================>.] - ETA: 0s - loss: 4.6706 - mean_squared_error: 4.6706\n",
      "Epoch 00026: val_loss did not improve from 20.42263\n",
      "5000/5000 [==============================] - 6s 1ms/step - loss: 4.6720 - mean_squared_error: 4.6720 - val_loss: 19.2371 - val_mean_squared_error: 19.2371\n",
      "Epoch 27/50\n",
      "4984/5000 [============================>.] - ETA: 0s - loss: 4.4506 - mean_squared_error: 4.4506\n",
      "Epoch 00027: val_loss did not improve from 20.42263\n",
      "5000/5000 [==============================] - 6s 1ms/step - loss: 4.4505 - mean_squared_error: 4.4505 - val_loss: 19.3011 - val_mean_squared_error: 19.3011\n",
      "Epoch 28/50\n",
      "4960/5000 [============================>.] - ETA: 0s - loss: 4.2477 - mean_squared_error: 4.2477\n",
      "Epoch 00028: val_loss did not improve from 20.42263\n",
      "5000/5000 [==============================] - 6s 1ms/step - loss: 4.2506 - mean_squared_error: 4.2506 - val_loss: 19.3656 - val_mean_squared_error: 19.3656\n",
      "Epoch 29/50\n",
      "4989/5000 [============================>.] - ETA: 0s - loss: 4.0685 - mean_squared_error: 4.0685\n",
      "Epoch 00029: val_loss did not improve from 20.42263\n",
      "5000/5000 [==============================] - 5s 1ms/step - loss: 4.0694 - mean_squared_error: 4.0694 - val_loss: 19.4201 - val_mean_squared_error: 19.4201\n",
      "Epoch 30/50\n",
      "4966/5000 [============================>.] - ETA: 0s - loss: 3.9020 - mean_squared_error: 3.9020\n",
      "Epoch 00030: val_loss did not improve from 20.42263\n",
      "5000/5000 [==============================] - 5s 1ms/step - loss: 3.9038 - mean_squared_error: 3.9038 - val_loss: 19.4665 - val_mean_squared_error: 19.4665\n",
      "Epoch 31/50\n",
      "4992/5000 [============================>.] - ETA: 0s - loss: 3.7538 - mean_squared_error: 3.7538\n",
      "Epoch 00031: val_loss did not improve from 20.42263\n",
      "5000/5000 [==============================] - 5s 1ms/step - loss: 3.7537 - mean_squared_error: 3.7537 - val_loss: 19.5119 - val_mean_squared_error: 19.5119\n",
      "Epoch 32/50\n",
      "4946/5000 [============================>.] - ETA: 0s - loss: 3.6173 - mean_squared_error: 3.6173\n",
      "Epoch 00032: val_loss did not improve from 20.42263\n",
      "5000/5000 [==============================] - 5s 1ms/step - loss: 3.6174 - mean_squared_error: 3.6174 - val_loss: 19.5527 - val_mean_squared_error: 19.5527\n",
      "Epoch 33/50\n",
      "4998/5000 [============================>.] - ETA: 0s - loss: 3.4925 - mean_squared_error: 3.4925\n",
      "Epoch 00033: val_loss did not improve from 20.42263\n",
      "5000/5000 [==============================] - 5s 1ms/step - loss: 3.4927 - mean_squared_error: 3.4927 - val_loss: 19.5881 - val_mean_squared_error: 19.5881\n",
      "Epoch 34/50\n",
      "4984/5000 [============================>.] - ETA: 0s - loss: 3.3777 - mean_squared_error: 3.3777\n",
      "Epoch 00034: val_loss did not improve from 20.42263\n",
      "5000/5000 [==============================] - 5s 1ms/step - loss: 3.3789 - mean_squared_error: 3.3789 - val_loss: 19.6222 - val_mean_squared_error: 19.6222\n",
      "Epoch 35/50\n",
      "4967/5000 [============================>.] - ETA: 0s - loss: 3.2733 - mean_squared_error: 3.2733\n",
      "Epoch 00035: val_loss did not improve from 20.42263\n",
      "5000/5000 [==============================] - 5s 1ms/step - loss: 3.2738 - mean_squared_error: 3.2738 - val_loss: 19.6475 - val_mean_squared_error: 19.6475\n",
      "Epoch 36/50\n",
      "4958/5000 [============================>.] - ETA: 0s - loss: 3.1779 - mean_squared_error: 3.1779\n",
      "Epoch 00036: val_loss did not improve from 20.42263\n",
      "5000/5000 [==============================] - 5s 1ms/step - loss: 3.1782 - mean_squared_error: 3.1782 - val_loss: 19.6705 - val_mean_squared_error: 19.6705\n",
      "Epoch 37/50\n",
      "4992/5000 [============================>.] - ETA: 0s - loss: 3.0888 - mean_squared_error: 3.0888\n",
      "Epoch 00037: val_loss did not improve from 20.42263\n",
      "5000/5000 [==============================] - 5s 1ms/step - loss: 3.0891 - mean_squared_error: 3.0891 - val_loss: 19.6919 - val_mean_squared_error: 19.6919\n",
      "Epoch 38/50\n",
      "4963/5000 [============================>.] - ETA: 0s - loss: 3.0089 - mean_squared_error: 3.0089\n",
      "Epoch 00038: val_loss did not improve from 20.42263\n",
      "5000/5000 [==============================] - 5s 1ms/step - loss: 3.0067 - mean_squared_error: 3.0067 - val_loss: 19.7130 - val_mean_squared_error: 19.7130\n",
      "Epoch 39/50\n",
      "4955/5000 [============================>.] - ETA: 0s - loss: 2.9310 - mean_squared_error: 2.9310\n",
      "Epoch 00039: val_loss did not improve from 20.42263\n",
      "5000/5000 [==============================] - 5s 1ms/step - loss: 2.9314 - mean_squared_error: 2.9314 - val_loss: 19.7251 - val_mean_squared_error: 19.7251\n",
      "Epoch 40/50\n",
      "4996/5000 [============================>.] - ETA: 0s - loss: 2.8596 - mean_squared_error: 2.8596\n",
      "Epoch 00040: val_loss did not improve from 20.42263\n",
      "5000/5000 [==============================] - 6s 1ms/step - loss: 2.8602 - mean_squared_error: 2.8602 - val_loss: 19.7390 - val_mean_squared_error: 19.7390\n",
      "Epoch 41/50\n",
      "4976/5000 [============================>.] - ETA: 0s - loss: 2.7933 - mean_squared_error: 2.7933\n",
      "Epoch 00041: val_loss did not improve from 20.42263\n",
      "5000/5000 [==============================] - 5s 1ms/step - loss: 2.7940 - mean_squared_error: 2.7940 - val_loss: 19.7528 - val_mean_squared_error: 19.7528\n",
      "Epoch 42/50\n",
      "4967/5000 [============================>.] - ETA: 0s - loss: 2.7304 - mean_squared_error: 2.7304\n",
      "Epoch 00042: val_loss did not improve from 20.42263\n",
      "5000/5000 [==============================] - 5s 978us/step - loss: 2.7313 - mean_squared_error: 2.7313 - val_loss: 19.7603 - val_mean_squared_error: 19.7603\n",
      "Epoch 43/50\n",
      "4961/5000 [============================>.] - ETA: 0s - loss: 2.6746 - mean_squared_error: 2.6746\n",
      "Epoch 00043: val_loss did not improve from 20.42263\n",
      "5000/5000 [==============================] - 5s 1ms/step - loss: 2.6739 - mean_squared_error: 2.6739 - val_loss: 19.7749 - val_mean_squared_error: 19.7749\n",
      "Epoch 44/50\n",
      "4998/5000 [============================>.] - ETA: 0s - loss: 2.6185 - mean_squared_error: 2.6185\n",
      "Epoch 00044: val_loss did not improve from 20.42263\n",
      "5000/5000 [==============================] - 5s 1ms/step - loss: 2.6188 - mean_squared_error: 2.6188 - val_loss: 19.7839 - val_mean_squared_error: 19.7839\n",
      "Epoch 45/50\n",
      "4951/5000 [============================>.] - ETA: 0s - loss: 2.5651 - mean_squared_error: 2.5651\n",
      "Epoch 00045: val_loss did not improve from 20.42263\n",
      "5000/5000 [==============================] - 5s 974us/step - loss: 2.5663 - mean_squared_error: 2.5663 - val_loss: 19.7946 - val_mean_squared_error: 19.7946\n",
      "Epoch 46/50\n",
      "4958/5000 [============================>.] - ETA: 0s - loss: 2.5152 - mean_squared_error: 2.5152\n",
      "Epoch 00046: val_loss did not improve from 20.42263\n",
      "5000/5000 [==============================] - 5s 1ms/step - loss: 2.5171 - mean_squared_error: 2.5171 - val_loss: 19.7974 - val_mean_squared_error: 19.7974\n",
      "Epoch 47/50\n",
      "4973/5000 [============================>.] - ETA: 0s - loss: 2.4720 - mean_squared_error: 2.4720\n",
      "Epoch 00047: val_loss did not improve from 20.42263\n",
      "5000/5000 [==============================] - 5s 1ms/step - loss: 2.4695 - mean_squared_error: 2.4695 - val_loss: 19.8110 - val_mean_squared_error: 19.8110\n",
      "Epoch 48/50\n",
      "4942/5000 [============================>.] - ETA: 0s - loss: 2.4216 - mean_squared_error: 2.4216\n",
      "Epoch 00048: val_loss did not improve from 20.42263\n",
      "5000/5000 [==============================] - 5s 1ms/step - loss: 2.4248 - mean_squared_error: 2.4248 - val_loss: 19.8201 - val_mean_squared_error: 19.8201\n",
      "Epoch 49/50\n",
      "4976/5000 [============================>.] - ETA: 0s - loss: 2.3812 - mean_squared_error: 2.3812\n",
      "Epoch 00049: val_loss did not improve from 20.42263\n",
      "5000/5000 [==============================] - 5s 994us/step - loss: 2.3824 - mean_squared_error: 2.3824 - val_loss: 19.8295 - val_mean_squared_error: 19.8295\n",
      "Epoch 50/50\n",
      "4983/5000 [============================>.] - ETA: 0s - loss: 2.3412 - mean_squared_error: 2.3412\n",
      "Epoch 00050: val_loss did not improve from 20.42263\n",
      "5000/5000 [==============================] - 5s 1ms/step - loss: 2.3417 - mean_squared_error: 2.3417 - val_loss: 19.8330 - val_mean_squared_error: 19.8330\n",
      "Wall time: 4min 29s\n"
     ]
    }
   ],
   "source": [
    "%%time\n",
    "checkpoint_filepath = \"userID_embeddingModel.hdf5\"\n",
    "callbacks = ModelCheckpoint(filepath = checkpoint_filepath, monitor='val_loss', verbose=1, save_best_only=True, mode='max')\n",
    "history = model.fit(x=[train.reviewerID, train.itemID], \\\n",
    "                    y=train.rating, epochs=50, \\\n",
    "                    validation_data=([val.reviewerID, \\\n",
    "                    val.itemID], val.rating), \\\n",
    "                    verbose=1, callbacks = callbacks)\n",
    "model.load_weights(checkpoint_filepath)"
   ]
  },
  {
   "cell_type": "code",
   "execution_count": 138,
   "metadata": {},
   "outputs": [
    {
     "name": "stdout",
     "output_type": "stream",
     "text": [
      "Minimum MSE:  18.390094757080078\n"
     ]
    },
    {
     "data": {
      "image/png": "[encoded data removed]",
      "text/plain": [
       "<Figure size 432x288 with 1 Axes>"
      ]
     },
     "metadata": {
      "needs_background": "light"
     },
     "output_type": "display_data"
    }
   ],
   "source": [
    "pd.Series(history.history['val_loss'][10:]).plot(logy=False)\n",
    "plt.xlabel(\"Epoch\")\n",
    "plt.ylabel(\"Validation Error\")\n",
    "print('Minimum MSE: ', min(history.history['val_loss']))"
   ]
  },
  {
   "cell_type": "code",
   "execution_count": 141,
   "metadata": {},
   "outputs": [
    {
     "data": {
      "text/plain": [
       "array([[ 0.00506126],\n",
       "       [-0.00094669],\n",
       "       [ 0.00085441],\n",
       "       ...,\n",
       "       [-0.00192852],\n",
       "       [-0.00204687],\n",
       "       [ 0.00616919]], dtype=float32)"
      ]
     },
     "execution_count": 141,
     "metadata": {},
     "output_type": "execute_result"
    }
   ],
   "source": [
    "model.predict(x=[val.reviewerID, val.itemID])"
   ]
  },
  {
   "cell_type": "markdown",
   "metadata": {},
   "source": [
    "## Using Surprise Library"
   ]
  },
  {
   "cell_type": "code",
   "execution_count": 2,
   "metadata": {
    "id": "5O2QguXtJTxx"
   },
   "outputs": [],
   "source": [
    "from surprise import Dataset \n",
    "from surprise import Reader\n",
    "# from surprise.model_selection import train_test_split\n",
    "from surprise import accuracy\n",
    "from surprise.model_selection import GridSearchCV,RandomizedSearchCV, KFold\n",
    "from surprise import BaselineOnly\n",
    "from surprise import KNNBasic\n",
    "from surprise import SVD\n",
    "from surprise import NMF"
   ]
  },
  {
   "cell_type": "code",
   "execution_count": 219,
   "metadata": {},
   "outputs": [],
   "source": [
    "# split the training data into train and validation set\n",
    "train, val = train_test_split(trainDF,test_size=0.20,shuffle=True, random_state = 42)"
   ]
  },
  {
   "cell_type": "code",
   "execution_count": 220,
   "metadata": {},
   "outputs": [],
   "source": [
    "# Loading as Surprise dataframe and train-test split\n",
    "reader = Reader(rating_scale = (0,5))\n",
    "train_holdings = Dataset.load_from_df(train, reader)\n",
    "train_set = train_holdings.build_full_trainset()\n",
    "\n",
    "val_holdings = Dataset.load_from_df(val, reader)\n",
    "val_set = val_holdings.build_full_trainset()"
   ]
  },
  {
   "cell_type": "code",
   "execution_count": 221,
   "metadata": {
    "colab": {
     "base_uri": "https://localhost:8080/"
    },
    "id": "-6B9qqvZqyHw",
    "outputId": "f303fe30-8fe7-4177-cc1e-8e35cf623b3e"
   },
   "outputs": [
    {
     "data": {
      "text/plain": [
       "<surprise.prediction_algorithms.matrix_factorization.NMF at 0x13d9f39ea90>"
      ]
     },
     "execution_count": 221,
     "metadata": {},
     "output_type": "execute_result"
    }
   ],
   "source": [
    "#Fitting NMF model\n",
    "nmf_model = NMF(random_state = 42)\n",
    "nmf_model.fit(train_set)"
   ]
  },
  {
   "cell_type": "code",
   "execution_count": 222,
   "metadata": {
    "colab": {
     "base_uri": "https://localhost:8080/"
    },
    "id": "EVQEOCuJvnN1",
    "outputId": "1a452dca-072c-439e-8e5b-a885f19a9b3c"
   },
   "outputs": [
    {
     "name": "stdout",
     "output_type": "stream",
     "text": [
      "RMSE on training data :  0.06420182644171808\n",
      "RMSE on val data:  1.34713929888337\n",
      "Wall time: 3.01 s\n"
     ]
    }
   ],
   "source": [
    "%%time\n",
    "#Evaluating results\n",
    "train_predictions = nmf_model.test(train_set.build_testset())\n",
    "val_predictions = nmf_model.test(val_set.build_testset())\n",
    "print(\"RMSE on training data : \", accuracy.mse(train_predictions, verbose = False))\n",
    "print(\"RMSE on val data: \", accuracy.mse(val_predictions, verbose = False))"
   ]
  },
  {
   "cell_type": "code",
   "execution_count": 298,
   "metadata": {
    "colab": {
     "base_uri": "https://localhost:8080/"
    },
    "id": "IJAKpLF2vZql",
    "outputId": "3ceccb69-6aa7-4f75-e8eb-3f8e4a0df126"
   },
   "outputs": [
    {
     "name": "stdout",
     "output_type": "stream",
     "text": [
      "Wall time: 15min 30s\n"
     ]
    },
    {
     "data": {
      "text/plain": [
       "{'n_factors': 18, 'reg_pu': 0.1, 'reg_qi': 0.08, 'n_epochs': 30}"
      ]
     },
     "execution_count": 298,
     "metadata": {},
     "output_type": "execute_result"
    }
   ],
   "source": [
    "%%time\n",
    "#Hyperparameter tuning for NMF\n",
    "param_distributions  = {'n_factors': list(range(10,20,2)),'reg_pu': np.arange(0.02,0.2,0.02),'reg_qi': np.arange(0.02,0.2,0.02), 'n_epochs' : [30]}\n",
    "rs = RandomizedSearchCV(NMF, param_distributions, measures=['rmse'], return_train_measures = True, cv = 5, n_iter = 20)\n",
    "rs.fit(train_holdings)\n",
    "rs.best_params['rmse']"
   ]
  },
  {
   "cell_type": "code",
   "execution_count": 300,
   "metadata": {},
   "outputs": [
    {
     "data": {
      "text/plain": [
       "<surprise.prediction_algorithms.matrix_factorization.NMF at 0x13e48dbff10>"
      ]
     },
     "execution_count": 300,
     "metadata": {},
     "output_type": "execute_result"
    }
   ],
   "source": [
    "tuned_nmf_model = NMF(n_factors=18, reg_pu = 0.1, reg_qi = 0.08, n_epochs = 30, random_state = 42)\n",
    "tuned_nmf_model.fit(train_set)"
   ]
  },
  {
   "cell_type": "markdown",
   "metadata": {},
   "source": [
    "## Predict on Test Set"
   ]
  },
  {
   "cell_type": "code",
   "execution_count": 301,
   "metadata": {},
   "outputs": [
    {
     "data": {
      "text/html": [
       "<div>\n",
       "<style scoped>\n",
       "    .dataframe tbody tr th:only-of-type {\n",
       "        vertical-align: middle;\n",
       "    }\n",
       "\n",
       "    .dataframe tbody tr th {\n",
       "        vertical-align: top;\n",
       "    }\n",
       "\n",
       "    .dataframe thead th {\n",
       "        text-align: right;\n",
       "    }\n",
       "</style>\n",
       "<table border=\"1\" class=\"dataframe\">\n",
       "  <thead>\n",
       "    <tr style=\"text-align: right;\">\n",
       "      <th></th>\n",
       "      <th>reviewerID</th>\n",
       "      <th>itemID</th>\n",
       "      <th>ratings</th>\n",
       "    </tr>\n",
       "  </thead>\n",
       "  <tbody>\n",
       "    <tr>\n",
       "      <th>0</th>\n",
       "      <td>u32476110</td>\n",
       "      <td>p76243483</td>\n",
       "      <td>0</td>\n",
       "    </tr>\n",
       "    <tr>\n",
       "      <th>1</th>\n",
       "      <td>u36732410</td>\n",
       "      <td>p92485419</td>\n",
       "      <td>0</td>\n",
       "    </tr>\n",
       "    <tr>\n",
       "      <th>2</th>\n",
       "      <td>u85385007</td>\n",
       "      <td>p40031588</td>\n",
       "      <td>0</td>\n",
       "    </tr>\n",
       "    <tr>\n",
       "      <th>3</th>\n",
       "      <td>u30715529</td>\n",
       "      <td>p88719785</td>\n",
       "      <td>0</td>\n",
       "    </tr>\n",
       "    <tr>\n",
       "      <th>4</th>\n",
       "      <td>u95909892</td>\n",
       "      <td>p59188380</td>\n",
       "      <td>0</td>\n",
       "    </tr>\n",
       "    <tr>\n",
       "      <th>...</th>\n",
       "      <td>...</td>\n",
       "      <td>...</td>\n",
       "      <td>...</td>\n",
       "    </tr>\n",
       "    <tr>\n",
       "      <th>9995</th>\n",
       "      <td>u75493520</td>\n",
       "      <td>p47578844</td>\n",
       "      <td>0</td>\n",
       "    </tr>\n",
       "    <tr>\n",
       "      <th>9996</th>\n",
       "      <td>u85298918</td>\n",
       "      <td>p49438960</td>\n",
       "      <td>0</td>\n",
       "    </tr>\n",
       "    <tr>\n",
       "      <th>9997</th>\n",
       "      <td>u73735798</td>\n",
       "      <td>p85068973</td>\n",
       "      <td>0</td>\n",
       "    </tr>\n",
       "    <tr>\n",
       "      <th>9998</th>\n",
       "      <td>u67631525</td>\n",
       "      <td>p59188380</td>\n",
       "      <td>0</td>\n",
       "    </tr>\n",
       "    <tr>\n",
       "      <th>9999</th>\n",
       "      <td>u45357230</td>\n",
       "      <td>p52824671</td>\n",
       "      <td>0</td>\n",
       "    </tr>\n",
       "  </tbody>\n",
       "</table>\n",
       "<p>10000 rows × 3 columns</p>\n",
       "</div>"
      ],
      "text/plain": [
       "     reviewerID     itemID  ratings\n",
       "0     u32476110  p76243483        0\n",
       "1     u36732410  p92485419        0\n",
       "2     u85385007  p40031588        0\n",
       "3     u30715529  p88719785        0\n",
       "4     u95909892  p59188380        0\n",
       "...         ...        ...      ...\n",
       "9995  u75493520  p47578844        0\n",
       "9996  u85298918  p49438960        0\n",
       "9997  u73735798  p85068973        0\n",
       "9998  u67631525  p59188380        0\n",
       "9999  u45357230  p52824671        0\n",
       "\n",
       "[10000 rows x 3 columns]"
      ]
     },
     "execution_count": 301,
     "metadata": {},
     "output_type": "execute_result"
    }
   ],
   "source": [
    "testDF['ratings'] = 0\n",
    "testDF"
   ]
  },
  {
   "cell_type": "code",
   "execution_count": 302,
   "metadata": {},
   "outputs": [],
   "source": [
    "test_holdings = Dataset.load_from_df(testDF, reader)\n",
    "test_set = test_holdings.build_full_trainset()"
   ]
  },
  {
   "cell_type": "code",
   "execution_count": 303,
   "metadata": {},
   "outputs": [],
   "source": [
    "test_predictions = tuned_nmf_model.test(test_set.build_testset(),verbose=False)"
   ]
  },
  {
   "cell_type": "code",
   "execution_count": 304,
   "metadata": {},
   "outputs": [
    {
     "data": {
      "text/plain": [
       "[Prediction(uid='u32476110', iid='p76243483', r_ui=0.0, est=3.2410771940288625, details={'was_impossible': False}),\n",
       " Prediction(uid='u36732410', iid='p92485419', r_ui=0.0, est=3.725365187707972, details={'was_impossible': False}),\n",
       " Prediction(uid='u36732410', iid='p80578391', r_ui=0.0, est=3.4926588175566233, details={'was_impossible': False}),\n",
       " Prediction(uid='u85385007', iid='p40031588', r_ui=0.0, est=3.7625081210700078, details={'was_impossible': False}),\n",
       " Prediction(uid='u85385007', iid='p45159255', r_ui=0.0, est=4.103156866420433, details={'was_impossible': False})]"
      ]
     },
     "execution_count": 304,
     "metadata": {},
     "output_type": "execute_result"
    }
   ],
   "source": [
    "test_predictions[:5]"
   ]
  },
  {
   "cell_type": "markdown",
   "metadata": {},
   "source": [
    "### Format prediction"
   ]
  },
  {
   "cell_type": "code",
   "execution_count": 305,
   "metadata": {},
   "outputs": [],
   "source": [
    "# create and merge dataframe to match the prediction sequence to the original index in the given rating_pairs.csv\n",
    "ui_pair = [pred[0]+'-'+pred[1] for pred in test_predictions]\n",
    "est_ratings = [pred[3] for pred in test_predictions] \n",
    "\n",
    "rrpDF = pd.DataFrame(data = {'userID-itemID':ui_pair, 'prediction':est_ratings})\n",
    "\n",
    "# original rating_pairs\n",
    "rpDF = pd.read_csv('rating_pairs.csv')"
   ]
  },
  {
   "cell_type": "code",
   "execution_count": 306,
   "metadata": {},
   "outputs": [],
   "source": [
    "outDF = rpDF.merge(rrpDF,how='left',left_on='userID-itemID',right_on='userID-itemID')"
   ]
  },
  {
   "cell_type": "code",
   "execution_count": 307,
   "metadata": {},
   "outputs": [
    {
     "data": {
      "text/html": [
       "<div>\n",
       "<style scoped>\n",
       "    .dataframe tbody tr th:only-of-type {\n",
       "        vertical-align: middle;\n",
       "    }\n",
       "\n",
       "    .dataframe tbody tr th {\n",
       "        vertical-align: top;\n",
       "    }\n",
       "\n",
       "    .dataframe thead th {\n",
       "        text-align: right;\n",
       "    }\n",
       "</style>\n",
       "<table border=\"1\" class=\"dataframe\">\n",
       "  <thead>\n",
       "    <tr style=\"text-align: right;\">\n",
       "      <th></th>\n",
       "      <th>userID-itemID</th>\n",
       "      <th>prediction</th>\n",
       "    </tr>\n",
       "  </thead>\n",
       "  <tbody>\n",
       "    <tr>\n",
       "      <th>0</th>\n",
       "      <td>u32476110-p76243483</td>\n",
       "      <td>NaN</td>\n",
       "    </tr>\n",
       "    <tr>\n",
       "      <th>1</th>\n",
       "      <td>u36732410-p92485419</td>\n",
       "      <td>NaN</td>\n",
       "    </tr>\n",
       "    <tr>\n",
       "      <th>2</th>\n",
       "      <td>u85385007-p40031588</td>\n",
       "      <td>NaN</td>\n",
       "    </tr>\n",
       "    <tr>\n",
       "      <th>3</th>\n",
       "      <td>u30715529-p88719785</td>\n",
       "      <td>NaN</td>\n",
       "    </tr>\n",
       "    <tr>\n",
       "      <th>4</th>\n",
       "      <td>u95909892-p59188380</td>\n",
       "      <td>NaN</td>\n",
       "    </tr>\n",
       "    <tr>\n",
       "      <th>...</th>\n",
       "      <td>...</td>\n",
       "      <td>...</td>\n",
       "    </tr>\n",
       "    <tr>\n",
       "      <th>9995</th>\n",
       "      <td>u75493520-p47578844</td>\n",
       "      <td>NaN</td>\n",
       "    </tr>\n",
       "    <tr>\n",
       "      <th>9996</th>\n",
       "      <td>u85298918-p49438960</td>\n",
       "      <td>NaN</td>\n",
       "    </tr>\n",
       "    <tr>\n",
       "      <th>9997</th>\n",
       "      <td>u73735798-p85068973</td>\n",
       "      <td>NaN</td>\n",
       "    </tr>\n",
       "    <tr>\n",
       "      <th>9998</th>\n",
       "      <td>u67631525-p59188380</td>\n",
       "      <td>NaN</td>\n",
       "    </tr>\n",
       "    <tr>\n",
       "      <th>9999</th>\n",
       "      <td>u45357230-p52824671</td>\n",
       "      <td>NaN</td>\n",
       "    </tr>\n",
       "  </tbody>\n",
       "</table>\n",
       "<p>10000 rows × 2 columns</p>\n",
       "</div>"
      ],
      "text/plain": [
       "            userID-itemID  prediction\n",
       "0     u32476110-p76243483         NaN\n",
       "1     u36732410-p92485419         NaN\n",
       "2     u85385007-p40031588         NaN\n",
       "3     u30715529-p88719785         NaN\n",
       "4     u95909892-p59188380         NaN\n",
       "...                   ...         ...\n",
       "9995  u75493520-p47578844         NaN\n",
       "9996  u85298918-p49438960         NaN\n",
       "9997  u73735798-p85068973         NaN\n",
       "9998  u67631525-p59188380         NaN\n",
       "9999  u45357230-p52824671         NaN\n",
       "\n",
       "[10000 rows x 2 columns]"
      ]
     },
     "execution_count": 307,
     "metadata": {},
     "output_type": "execute_result"
    }
   ],
   "source": [
    "rpDF"
   ]
  },
  {
   "cell_type": "code",
   "execution_count": 308,
   "metadata": {},
   "outputs": [],
   "source": [
    "outDF['prediction'] = outDF.prediction_y\n",
    "outDF= outDF[['userID-itemID','prediction']]"
   ]
  },
  {
   "cell_type": "code",
   "execution_count": 309,
   "metadata": {},
   "outputs": [
    {
     "data": {
      "text/html": [
       "<div>\n",
       "<style scoped>\n",
       "    .dataframe tbody tr th:only-of-type {\n",
       "        vertical-align: middle;\n",
       "    }\n",
       "\n",
       "    .dataframe tbody tr th {\n",
       "        vertical-align: top;\n",
       "    }\n",
       "\n",
       "    .dataframe thead th {\n",
       "        text-align: right;\n",
       "    }\n",
       "</style>\n",
       "<table border=\"1\" class=\"dataframe\">\n",
       "  <thead>\n",
       "    <tr style=\"text-align: right;\">\n",
       "      <th></th>\n",
       "      <th>userID-itemID</th>\n",
       "      <th>prediction</th>\n",
       "    </tr>\n",
       "  </thead>\n",
       "  <tbody>\n",
       "    <tr>\n",
       "      <th>0</th>\n",
       "      <td>u32476110-p76243483</td>\n",
       "      <td>3.241077</td>\n",
       "    </tr>\n",
       "    <tr>\n",
       "      <th>1</th>\n",
       "      <td>u36732410-p92485419</td>\n",
       "      <td>3.725365</td>\n",
       "    </tr>\n",
       "    <tr>\n",
       "      <th>2</th>\n",
       "      <td>u85385007-p40031588</td>\n",
       "      <td>3.762508</td>\n",
       "    </tr>\n",
       "    <tr>\n",
       "      <th>3</th>\n",
       "      <td>u30715529-p88719785</td>\n",
       "      <td>4.904635</td>\n",
       "    </tr>\n",
       "    <tr>\n",
       "      <th>4</th>\n",
       "      <td>u95909892-p59188380</td>\n",
       "      <td>4.409825</td>\n",
       "    </tr>\n",
       "    <tr>\n",
       "      <th>...</th>\n",
       "      <td>...</td>\n",
       "      <td>...</td>\n",
       "    </tr>\n",
       "    <tr>\n",
       "      <th>9995</th>\n",
       "      <td>u75493520-p47578844</td>\n",
       "      <td>3.925957</td>\n",
       "    </tr>\n",
       "    <tr>\n",
       "      <th>9996</th>\n",
       "      <td>u85298918-p49438960</td>\n",
       "      <td>4.374546</td>\n",
       "    </tr>\n",
       "    <tr>\n",
       "      <th>9997</th>\n",
       "      <td>u73735798-p85068973</td>\n",
       "      <td>4.764918</td>\n",
       "    </tr>\n",
       "    <tr>\n",
       "      <th>9998</th>\n",
       "      <td>u67631525-p59188380</td>\n",
       "      <td>5.000000</td>\n",
       "    </tr>\n",
       "    <tr>\n",
       "      <th>9999</th>\n",
       "      <td>u45357230-p52824671</td>\n",
       "      <td>3.900550</td>\n",
       "    </tr>\n",
       "  </tbody>\n",
       "</table>\n",
       "<p>10000 rows × 2 columns</p>\n",
       "</div>"
      ],
      "text/plain": [
       "            userID-itemID  prediction\n",
       "0     u32476110-p76243483    3.241077\n",
       "1     u36732410-p92485419    3.725365\n",
       "2     u85385007-p40031588    3.762508\n",
       "3     u30715529-p88719785    4.904635\n",
       "4     u95909892-p59188380    4.409825\n",
       "...                   ...         ...\n",
       "9995  u75493520-p47578844    3.925957\n",
       "9996  u85298918-p49438960    4.374546\n",
       "9997  u73735798-p85068973    4.764918\n",
       "9998  u67631525-p59188380    5.000000\n",
       "9999  u45357230-p52824671    3.900550\n",
       "\n",
       "[10000 rows x 2 columns]"
      ]
     },
     "execution_count": 309,
     "metadata": {},
     "output_type": "execute_result"
    }
   ],
   "source": [
    "outDF"
   ]
  },
  {
   "cell_type": "code",
   "execution_count": 310,
   "metadata": {},
   "outputs": [],
   "source": [
    "outDF.to_csv('rating_prediction.csv',index=False)"
   ]
  },
  {
   "cell_type": "code",
   "execution_count": 311,
   "metadata": {},
   "outputs": [],
   "source": [
    "# kaggle score 1.31322"
   ]
  }
 ],
 "metadata": {
  "kernelspec": {
   "display_name": "Python 3",
   "language": "python",
   "name": "python3"
  },
  "language_info": {
   "codemirror_mode": {
    "name": "ipython",
    "version": 3
   },
   "file_extension": ".py",
   "mimetype": "text/x-python",
   "name": "python",
   "nbconvert_exporter": "python",
   "pygments_lexer": "ipython3",
   "version": "3.8.3"
  }
 },
 "nbformat": 4,
 "nbformat_minor": 4
}
